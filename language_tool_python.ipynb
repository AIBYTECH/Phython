{
  "nbformat": 4,
  "nbformat_minor": 0,
  "metadata": {
    "colab": {
      "provenance": [],
      "include_colab_link": true
    },
    "kernelspec": {
      "name": "python3",
      "display_name": "Python 3"
    },
    "language_info": {
      "name": "python"
    }
  },
  "cells": [
    {
      "cell_type": "markdown",
      "metadata": {
        "id": "view-in-github",
        "colab_type": "text"
      },
      "source": [
        "<a href=\"https://colab.research.google.com/github/AIBYTECH/Phython/blob/main/language_tool_python.ipynb\" target=\"_parent\"><img src=\"https://colab.research.google.com/assets/colab-badge.svg\" alt=\"Open In Colab\"/></a>"
      ]
    },
    {
      "cell_type": "code",
      "execution_count": null,
      "metadata": {
        "id": "b34YJvoCKZqw"
      },
      "outputs": [],
      "source": [
        "import language_tool_python\n",
        "\n",
        "# Load LanguageTool\n",
        "tool = language_tool_python.LanguageTool('en-US')\n",
        "\n",
        "# Read the thesis file\n",
        "with open('/content/New Text Document.txt', 'r') as f:\n",
        "    thesis = f.read()\n",
        "\n",
        "# Check for grammar mistakes\n",
        "matches = tool.check(thesis)\n",
        "\n",
        "# Print the number of mistakes found\n",
        "print(f'Found {len(matches)} grammar mistake(s):\\n')\n",
        "\n",
        "# Print the mistakes and their suggestions\n",
        "for match in matches:\n",
        "    print(f'{match.ruleId}: {match.message}')\n",
        "    print(f'\\tSuggested correction(s): {match.replacements}\\n')\n",
        "\n",
        "# Write the report to a file\n",
        "with open('report.txt', 'w') as f:\n",
        "    f.write(f'Found {len(matches)} grammar mistake(s):\\n\\n')\n",
        "    for match in matches:\n",
        "        f.write(f'{match.ruleId}: {match.message}\\n')\n",
        "        f.write(f'\\tSuggested correction(s): {match.replacements}\\n\\n')"
      ]
    }
  ]
}