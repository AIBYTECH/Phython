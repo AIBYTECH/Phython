{
  "nbformat": 4,
  "nbformat_minor": 0,
  "metadata": {
    "colab": {
      "name": "Guess_word_game.ipynb",
      "provenance": [],
      "include_colab_link": true
    },
    "kernelspec": {
      "name": "python3",
      "display_name": "Python 3"
    },
    "language_info": {
      "name": "python"
    }
  },
  "cells": [
    {
      "cell_type": "markdown",
      "metadata": {
        "id": "view-in-github",
        "colab_type": "text"
      },
      "source": [
        "<a href=\"https://colab.research.google.com/github/AIBYTECH/Phython/blob/main/Guess_word_game.ipynb\" target=\"_parent\"><img src=\"https://colab.research.google.com/assets/colab-badge.svg\" alt=\"Open In Colab\"/></a>"
      ]
    },
    {
      "cell_type": "code",
      "execution_count": null,
      "metadata": {
        "colab": {
          "base_uri": "https://localhost:8080/"
        },
        "id": "6w-BF-Mff3p4",
        "outputId": "da525acf-0ce1-4065-b179-18909a3584b6"
      },
      "outputs": [
        {
          "output_type": "stream",
          "name": "stdout",
          "text": [
            "inter guess word: cat\n",
            "inter guess word: hen\n",
            "inter guess word: dog\n",
            "You win the game!\n"
          ]
        }
      ],
      "source": [
        "secret_word = \"dog\"\n",
        "guess = \"\"\n",
        "guess_count = 0\n",
        "guess_limit = 3\n",
        "out_of_guess = False\n",
        "while guess != secret_word and not(out_of_guess):\n",
        "  if guess_count < guess_limit:\n",
        "    guess = input(\"inter guess word: \")\n",
        "    guess_count += 1\n",
        "  else:\n",
        "    out_of_guess = True \n",
        "if out_of_guess:\n",
        "  print(\"out of guesses, You Lose the game\")    \n",
        "else:\n",
        "  print(\"You win the game!\")  \n"
      ]
    }
  ]
}