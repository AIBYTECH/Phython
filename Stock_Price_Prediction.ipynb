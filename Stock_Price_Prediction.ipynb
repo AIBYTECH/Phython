{
  "nbformat": 4,
  "nbformat_minor": 0,
  "metadata": {
    "colab": {
      "provenance": [],
      "include_colab_link": true
    },
    "kernelspec": {
      "name": "python3",
      "display_name": "Python 3"
    },
    "language_info": {
      "name": "python"
    },
    "accelerator": "GPU",
    "gpuClass": "standard"
  },
  "cells": [
    {
      "cell_type": "markdown",
      "metadata": {
        "id": "view-in-github",
        "colab_type": "text"
      },
      "source": [
        "<a href=\"https://colab.research.google.com/github/AIBYTECH/Phython/blob/main/Stock_Price_Prediction.ipynb\" target=\"_parent\"><img src=\"https://colab.research.google.com/assets/colab-badge.svg\" alt=\"Open In Colab\"/></a>"
      ]
    },
    {
      "cell_type": "code",
      "source": [
        "!pip install kaggle"
      ],
      "metadata": {
        "colab": {
          "base_uri": "https://localhost:8080/"
        },
        "id": "lgg4yj2XlCdI",
        "outputId": "ca8be4cd-3e10-4876-e585-796353166b5f"
      },
      "execution_count": null,
      "outputs": [
        {
          "output_type": "stream",
          "name": "stdout",
          "text": [
            "Looking in indexes: https://pypi.org/simple, https://us-python.pkg.dev/colab-wheels/public/simple/\n",
            "Requirement already satisfied: kaggle in /usr/local/lib/python3.8/dist-packages (1.5.12)\n",
            "Requirement already satisfied: tqdm in /usr/local/lib/python3.8/dist-packages (from kaggle) (4.64.1)\n",
            "Requirement already satisfied: certifi in /usr/local/lib/python3.8/dist-packages (from kaggle) (2022.12.7)\n",
            "Requirement already satisfied: python-slugify in /usr/local/lib/python3.8/dist-packages (from kaggle) (8.0.0)\n",
            "Requirement already satisfied: six>=1.10 in /usr/local/lib/python3.8/dist-packages (from kaggle) (1.15.0)\n",
            "Requirement already satisfied: urllib3 in /usr/local/lib/python3.8/dist-packages (from kaggle) (1.24.3)\n",
            "Requirement already satisfied: python-dateutil in /usr/local/lib/python3.8/dist-packages (from kaggle) (2.8.2)\n",
            "Requirement already satisfied: requests in /usr/local/lib/python3.8/dist-packages (from kaggle) (2.25.1)\n",
            "Requirement already satisfied: text-unidecode>=1.3 in /usr/local/lib/python3.8/dist-packages (from python-slugify->kaggle) (1.3)\n",
            "Requirement already satisfied: chardet<5,>=3.0.2 in /usr/local/lib/python3.8/dist-packages (from requests->kaggle) (4.0.0)\n",
            "Requirement already satisfied: idna<3,>=2.5 in /usr/local/lib/python3.8/dist-packages (from requests->kaggle) (2.10)\n"
          ]
        }
      ]
    },
    {
      "cell_type": "code",
      "source": [
        "!mkdir ~/.kaggle"
      ],
      "metadata": {
        "id": "i-L_sIPHlCXm"
      },
      "execution_count": null,
      "outputs": []
    },
    {
      "cell_type": "code",
      "source": [
        "!cp kaggle.json ~/.kaggle/"
      ],
      "metadata": {
        "id": "bmyOx8W-lCSs"
      },
      "execution_count": null,
      "outputs": []
    },
    {
      "cell_type": "code",
      "source": [
        "!chmod 600 ~/.kaggle/kaggle.json"
      ],
      "metadata": {
        "id": "laz1e0YdlCOH"
      },
      "execution_count": null,
      "outputs": []
    },
    {
      "cell_type": "code",
      "source": [
        "!kaggle datasets download -d jainilcoder/netflix-stock-price-prediction"
      ],
      "metadata": {
        "colab": {
          "base_uri": "https://localhost:8080/"
        },
        "id": "soNhWytQlQAY",
        "outputId": "01e5d67a-48d0-4477-901a-121e6b124ba6"
      },
      "execution_count": null,
      "outputs": [
        {
          "output_type": "stream",
          "name": "stdout",
          "text": [
            "Downloading netflix-stock-price-prediction.zip to /content\n",
            "\r  0% 0.00/20.9k [00:00<?, ?B/s]\n",
            "\r100% 20.9k/20.9k [00:00<00:00, 19.1MB/s]\n"
          ]
        }
      ]
    },
    {
      "cell_type": "code",
      "source": [
        "!unzip /content/netflix-stock-price-prediction.zip"
      ],
      "metadata": {
        "colab": {
          "base_uri": "https://localhost:8080/"
        },
        "id": "Rf9SmTjKmAcn",
        "outputId": "0567b760-b080-4567-ac22-80bd8c0a79b9"
      },
      "execution_count": null,
      "outputs": [
        {
          "output_type": "stream",
          "name": "stdout",
          "text": [
            "Archive:  /content/netflix-stock-price-prediction.zip\n",
            "  inflating: NFLX.csv                \n"
          ]
        }
      ]
    },
    {
      "cell_type": "code",
      "execution_count": null,
      "metadata": {
        "id": "GYZcjdzzXPsk"
      },
      "outputs": [],
      "source": [
        "#import libraries\n",
        "import os\n",
        "import numpy as np\n",
        "import pandas as pd\n",
        "import matplotlib.pyplot as plt\n",
        "%matplotlib inline"
      ]
    },
    {
      "cell_type": "code",
      "source": [
        "dataset_train =pd.read_csv(\"/content/NFLX.csv\")\n",
        "dataset_train.head()"
      ],
      "metadata": {
        "colab": {
          "base_uri": "https://localhost:8080/",
          "height": 206
        },
        "id": "VZKVDKrMOuqE",
        "outputId": "dba8e90f-b3b0-49cf-89cf-647a916dc022"
      },
      "execution_count": null,
      "outputs": [
        {
          "output_type": "execute_result",
          "data": {
            "text/plain": [
              "         Date        Open        High         Low       Close   Adj Close  \\\n",
              "0  2018-02-05  262.000000  267.899994  250.029999  254.259995  254.259995   \n",
              "1  2018-02-06  247.699997  266.700012  245.000000  265.720001  265.720001   \n",
              "2  2018-02-07  266.579987  272.450012  264.329987  264.559998  264.559998   \n",
              "3  2018-02-08  267.079987  267.619995  250.000000  250.100006  250.100006   \n",
              "4  2018-02-09  253.850006  255.800003  236.110001  249.470001  249.470001   \n",
              "\n",
              "     Volume  \n",
              "0  11896100  \n",
              "1  12595800  \n",
              "2   8981500  \n",
              "3   9306700  \n",
              "4  16906900  "
            ],
            "text/html": [
              "\n",
              "  <div id=\"df-8daa593c-1685-4590-b025-69472adf8a3a\">\n",
              "    <div class=\"colab-df-container\">\n",
              "      <div>\n",
              "<style scoped>\n",
              "    .dataframe tbody tr th:only-of-type {\n",
              "        vertical-align: middle;\n",
              "    }\n",
              "\n",
              "    .dataframe tbody tr th {\n",
              "        vertical-align: top;\n",
              "    }\n",
              "\n",
              "    .dataframe thead th {\n",
              "        text-align: right;\n",
              "    }\n",
              "</style>\n",
              "<table border=\"1\" class=\"dataframe\">\n",
              "  <thead>\n",
              "    <tr style=\"text-align: right;\">\n",
              "      <th></th>\n",
              "      <th>Date</th>\n",
              "      <th>Open</th>\n",
              "      <th>High</th>\n",
              "      <th>Low</th>\n",
              "      <th>Close</th>\n",
              "      <th>Adj Close</th>\n",
              "      <th>Volume</th>\n",
              "    </tr>\n",
              "  </thead>\n",
              "  <tbody>\n",
              "    <tr>\n",
              "      <th>0</th>\n",
              "      <td>2018-02-05</td>\n",
              "      <td>262.000000</td>\n",
              "      <td>267.899994</td>\n",
              "      <td>250.029999</td>\n",
              "      <td>254.259995</td>\n",
              "      <td>254.259995</td>\n",
              "      <td>11896100</td>\n",
              "    </tr>\n",
              "    <tr>\n",
              "      <th>1</th>\n",
              "      <td>2018-02-06</td>\n",
              "      <td>247.699997</td>\n",
              "      <td>266.700012</td>\n",
              "      <td>245.000000</td>\n",
              "      <td>265.720001</td>\n",
              "      <td>265.720001</td>\n",
              "      <td>12595800</td>\n",
              "    </tr>\n",
              "    <tr>\n",
              "      <th>2</th>\n",
              "      <td>2018-02-07</td>\n",
              "      <td>266.579987</td>\n",
              "      <td>272.450012</td>\n",
              "      <td>264.329987</td>\n",
              "      <td>264.559998</td>\n",
              "      <td>264.559998</td>\n",
              "      <td>8981500</td>\n",
              "    </tr>\n",
              "    <tr>\n",
              "      <th>3</th>\n",
              "      <td>2018-02-08</td>\n",
              "      <td>267.079987</td>\n",
              "      <td>267.619995</td>\n",
              "      <td>250.000000</td>\n",
              "      <td>250.100006</td>\n",
              "      <td>250.100006</td>\n",
              "      <td>9306700</td>\n",
              "    </tr>\n",
              "    <tr>\n",
              "      <th>4</th>\n",
              "      <td>2018-02-09</td>\n",
              "      <td>253.850006</td>\n",
              "      <td>255.800003</td>\n",
              "      <td>236.110001</td>\n",
              "      <td>249.470001</td>\n",
              "      <td>249.470001</td>\n",
              "      <td>16906900</td>\n",
              "    </tr>\n",
              "  </tbody>\n",
              "</table>\n",
              "</div>\n",
              "      <button class=\"colab-df-convert\" onclick=\"convertToInteractive('df-8daa593c-1685-4590-b025-69472adf8a3a')\"\n",
              "              title=\"Convert this dataframe to an interactive table.\"\n",
              "              style=\"display:none;\">\n",
              "        \n",
              "  <svg xmlns=\"http://www.w3.org/2000/svg\" height=\"24px\"viewBox=\"0 0 24 24\"\n",
              "       width=\"24px\">\n",
              "    <path d=\"M0 0h24v24H0V0z\" fill=\"none\"/>\n",
              "    <path d=\"M18.56 5.44l.94 2.06.94-2.06 2.06-.94-2.06-.94-.94-2.06-.94 2.06-2.06.94zm-11 1L8.5 8.5l.94-2.06 2.06-.94-2.06-.94L8.5 2.5l-.94 2.06-2.06.94zm10 10l.94 2.06.94-2.06 2.06-.94-2.06-.94-.94-2.06-.94 2.06-2.06.94z\"/><path d=\"M17.41 7.96l-1.37-1.37c-.4-.4-.92-.59-1.43-.59-.52 0-1.04.2-1.43.59L10.3 9.45l-7.72 7.72c-.78.78-.78 2.05 0 2.83L4 21.41c.39.39.9.59 1.41.59.51 0 1.02-.2 1.41-.59l7.78-7.78 2.81-2.81c.8-.78.8-2.07 0-2.86zM5.41 20L4 18.59l7.72-7.72 1.47 1.35L5.41 20z\"/>\n",
              "  </svg>\n",
              "      </button>\n",
              "      \n",
              "  <style>\n",
              "    .colab-df-container {\n",
              "      display:flex;\n",
              "      flex-wrap:wrap;\n",
              "      gap: 12px;\n",
              "    }\n",
              "\n",
              "    .colab-df-convert {\n",
              "      background-color: #E8F0FE;\n",
              "      border: none;\n",
              "      border-radius: 50%;\n",
              "      cursor: pointer;\n",
              "      display: none;\n",
              "      fill: #1967D2;\n",
              "      height: 32px;\n",
              "      padding: 0 0 0 0;\n",
              "      width: 32px;\n",
              "    }\n",
              "\n",
              "    .colab-df-convert:hover {\n",
              "      background-color: #E2EBFA;\n",
              "      box-shadow: 0px 1px 2px rgba(60, 64, 67, 0.3), 0px 1px 3px 1px rgba(60, 64, 67, 0.15);\n",
              "      fill: #174EA6;\n",
              "    }\n",
              "\n",
              "    [theme=dark] .colab-df-convert {\n",
              "      background-color: #3B4455;\n",
              "      fill: #D2E3FC;\n",
              "    }\n",
              "\n",
              "    [theme=dark] .colab-df-convert:hover {\n",
              "      background-color: #434B5C;\n",
              "      box-shadow: 0px 1px 3px 1px rgba(0, 0, 0, 0.15);\n",
              "      filter: drop-shadow(0px 1px 2px rgba(0, 0, 0, 0.3));\n",
              "      fill: #FFFFFF;\n",
              "    }\n",
              "  </style>\n",
              "\n",
              "      <script>\n",
              "        const buttonEl =\n",
              "          document.querySelector('#df-8daa593c-1685-4590-b025-69472adf8a3a button.colab-df-convert');\n",
              "        buttonEl.style.display =\n",
              "          google.colab.kernel.accessAllowed ? 'block' : 'none';\n",
              "\n",
              "        async function convertToInteractive(key) {\n",
              "          const element = document.querySelector('#df-8daa593c-1685-4590-b025-69472adf8a3a');\n",
              "          const dataTable =\n",
              "            await google.colab.kernel.invokeFunction('convertToInteractive',\n",
              "                                                     [key], {});\n",
              "          if (!dataTable) return;\n",
              "\n",
              "          const docLinkHtml = 'Like what you see? Visit the ' +\n",
              "            '<a target=\"_blank\" href=https://colab.research.google.com/notebooks/data_table.ipynb>data table notebook</a>'\n",
              "            + ' to learn more about interactive tables.';\n",
              "          element.innerHTML = '';\n",
              "          dataTable['output_type'] = 'display_data';\n",
              "          await google.colab.output.renderOutput(dataTable, element);\n",
              "          const docLink = document.createElement('div');\n",
              "          docLink.innerHTML = docLinkHtml;\n",
              "          element.appendChild(docLink);\n",
              "        }\n",
              "      </script>\n",
              "    </div>\n",
              "  </div>\n",
              "  "
            ]
          },
          "metadata": {},
          "execution_count": 9
        }
      ]
    },
    {
      "cell_type": "code",
      "source": [
        "train_set = dataset_train.iloc[:,1:2].values"
      ],
      "metadata": {
        "id": "TBzJtewgmdqn"
      },
      "execution_count": null,
      "outputs": []
    },
    {
      "cell_type": "code",
      "source": [
        "print(train_set)\n",
        "print(train_set.shape)"
      ],
      "metadata": {
        "colab": {
          "base_uri": "https://localhost:8080/"
        },
        "id": "PJvTXkYlmdlE",
        "outputId": "dc66cdbc-4fd6-479b-b104-86e27b158878"
      },
      "execution_count": null,
      "outputs": [
        {
          "output_type": "stream",
          "name": "stdout",
          "text": [
            "[[262.      ]\n",
            " [247.699997]\n",
            " [266.579987]\n",
            " ...\n",
            " [448.25    ]\n",
            " [421.440002]\n",
            " [407.309998]]\n",
            "(1009, 1)\n"
          ]
        }
      ]
    },
    {
      "cell_type": "code",
      "source": [
        "from sklearn.preprocessing import MinMaxScaler\n",
        "\n",
        "scaler = MinMaxScaler(feature_range=(0,1))\n",
        "scaled_training_set = scaler.fit_transform(train_set)\n",
        "\n",
        "scaled_training_set"
      ],
      "metadata": {
        "colab": {
          "base_uri": "https://localhost:8080/"
        },
        "id": "3sU1sQnlmdfL",
        "outputId": "918d4414-f338-49e4-cfaf-8c626b14ea94"
      },
      "execution_count": null,
      "outputs": [
        {
          "output_type": "execute_result",
          "data": {
            "text/plain": [
              "array([[0.06125254],\n",
              "       [0.03005911],\n",
              "       [0.07124314],\n",
              "       ...,\n",
              "       [0.46753051],\n",
              "       [0.4090483 ],\n",
              "       [0.3782257 ]])"
            ]
          },
          "metadata": {},
          "execution_count": 12
        }
      ]
    },
    {
      "cell_type": "code",
      "source": [
        "x_train = []\n",
        "y_train = []\n",
        "for i in range(50,1009):\n",
        "  x_train.append(scaled_training_set[i-50:i,0])\n",
        "  y_train.append(scaled_training_set[i,0])\n",
        "\n",
        "x_train = np.array(x_train)  \n",
        "y_train = np.array(y_train)"
      ],
      "metadata": {
        "id": "gBxUE4-Pu4lV"
      },
      "execution_count": null,
      "outputs": []
    },
    {
      "cell_type": "code",
      "source": [
        "print(x_train.shape)\n",
        "print(y_train.shape)"
      ],
      "metadata": {
        "colab": {
          "base_uri": "https://localhost:8080/"
        },
        "id": "fiazpvpXzq_K",
        "outputId": "42903592-1c6f-4f2a-9b3b-9283448f1b45"
      },
      "execution_count": null,
      "outputs": [
        {
          "output_type": "stream",
          "name": "stdout",
          "text": [
            "(959, 50)\n",
            "(959,)\n"
          ]
        }
      ]
    },
    {
      "cell_type": "code",
      "source": [
        "x_train = np.reshape(x_train,(x_train.shape[0], x_train.shape[1], 1))\n",
        "\n",
        "x_train.shape"
      ],
      "metadata": {
        "colab": {
          "base_uri": "https://localhost:8080/"
        },
        "id": "gIdtUNHf0bum",
        "outputId": "e7566db6-d9d4-40a3-e824-ac0f2c63167f"
      },
      "execution_count": null,
      "outputs": [
        {
          "output_type": "execute_result",
          "data": {
            "text/plain": [
              "(959, 50, 1)"
            ]
          },
          "metadata": {},
          "execution_count": 27
        }
      ]
    },
    {
      "cell_type": "code",
      "source": [
        "from keras.models import Sequential\n",
        "from keras.layers import LSTM \n",
        "from keras.layers import Dense \n",
        "from keras.layers import Dropout"
      ],
      "metadata": {
        "id": "aPCMGhqo2HBZ"
      },
      "execution_count": null,
      "outputs": []
    },
    {
      "cell_type": "code",
      "source": [
        "regressor = Sequential()\n",
        "\n",
        "regressor.add(LSTM(units = 50, return_sequences = True, input_shape = (x_train.shape[1], 1)))\n",
        "regressor.add(Dropout(0.2))\n",
        "\n",
        "regressor.add(LSTM(units = 50, return_sequences = True))\n",
        "regressor.add(Dropout (0.2))\n",
        "\n",
        "regressor.add(LSTM(units = 50, return_sequences= True))\n",
        "regressor.add(Dropout (0.2))\n",
        "\n",
        "regressor.add(LSTM(units = 50))\n",
        "\n",
        "regressor.add(Dropout (0.2))\n",
        "\n",
        "regressor.add(Dense (units=1))"
      ],
      "metadata": {
        "id": "yJ9Qeq3M200p"
      },
      "execution_count": null,
      "outputs": []
    },
    {
      "cell_type": "code",
      "source": [
        "regressor.compile(optimizer='adam', loss='mean_squared_error')\n",
        "regressor.fit(x_train, y_train, epochs=100, batch_size = 32)"
      ],
      "metadata": {
        "colab": {
          "base_uri": "https://localhost:8080/"
        },
        "id": "cwEAWaKH20w5",
        "outputId": "d69c5eaf-e4e7-4b21-aadc-6131c13c0c20"
      },
      "execution_count": null,
      "outputs": [
        {
          "output_type": "stream",
          "name": "stdout",
          "text": [
            "Epoch 1/100\n",
            "30/30 [==============================] - 10s 18ms/step - loss: 0.0357\n",
            "Epoch 2/100\n",
            "30/30 [==============================] - 1s 17ms/step - loss: 0.0086\n",
            "Epoch 3/100\n",
            "30/30 [==============================] - 1s 17ms/step - loss: 0.0089\n",
            "Epoch 4/100\n",
            "30/30 [==============================] - 0s 15ms/step - loss: 0.0073\n",
            "Epoch 5/100\n",
            "30/30 [==============================] - 0s 12ms/step - loss: 0.0078\n",
            "Epoch 6/100\n",
            "30/30 [==============================] - 0s 12ms/step - loss: 0.0075\n",
            "Epoch 7/100\n",
            "30/30 [==============================] - 0s 12ms/step - loss: 0.0065\n",
            "Epoch 8/100\n",
            "30/30 [==============================] - 0s 12ms/step - loss: 0.0067\n",
            "Epoch 9/100\n",
            "30/30 [==============================] - 0s 12ms/step - loss: 0.0059\n",
            "Epoch 10/100\n",
            "30/30 [==============================] - 0s 12ms/step - loss: 0.0063\n",
            "Epoch 11/100\n",
            "30/30 [==============================] - 0s 13ms/step - loss: 0.0063\n",
            "Epoch 12/100\n",
            "30/30 [==============================] - 0s 12ms/step - loss: 0.0056\n",
            "Epoch 13/100\n",
            "30/30 [==============================] - 0s 12ms/step - loss: 0.0059\n",
            "Epoch 14/100\n",
            "30/30 [==============================] - 0s 12ms/step - loss: 0.0050\n",
            "Epoch 15/100\n",
            "30/30 [==============================] - 0s 12ms/step - loss: 0.0048\n",
            "Epoch 16/100\n",
            "30/30 [==============================] - 0s 13ms/step - loss: 0.0052\n",
            "Epoch 17/100\n",
            "30/30 [==============================] - 0s 13ms/step - loss: 0.0045\n",
            "Epoch 18/100\n",
            "30/30 [==============================] - 0s 13ms/step - loss: 0.0048\n",
            "Epoch 19/100\n",
            "30/30 [==============================] - 0s 13ms/step - loss: 0.0044\n",
            "Epoch 20/100\n",
            "30/30 [==============================] - 0s 12ms/step - loss: 0.0045\n",
            "Epoch 21/100\n",
            "30/30 [==============================] - 0s 12ms/step - loss: 0.0045\n",
            "Epoch 22/100\n",
            "30/30 [==============================] - 0s 13ms/step - loss: 0.0044\n",
            "Epoch 23/100\n",
            "30/30 [==============================] - 0s 13ms/step - loss: 0.0044\n",
            "Epoch 24/100\n",
            "30/30 [==============================] - 0s 13ms/step - loss: 0.0044\n",
            "Epoch 25/100\n",
            "30/30 [==============================] - 0s 13ms/step - loss: 0.0041\n",
            "Epoch 26/100\n",
            "30/30 [==============================] - 0s 13ms/step - loss: 0.0043\n",
            "Epoch 27/100\n",
            "30/30 [==============================] - 0s 13ms/step - loss: 0.0038\n",
            "Epoch 28/100\n",
            "30/30 [==============================] - 0s 13ms/step - loss: 0.0043\n",
            "Epoch 29/100\n",
            "30/30 [==============================] - 0s 13ms/step - loss: 0.0038\n",
            "Epoch 30/100\n",
            "30/30 [==============================] - 0s 15ms/step - loss: 0.0037\n",
            "Epoch 31/100\n",
            "30/30 [==============================] - 1s 18ms/step - loss: 0.0040\n",
            "Epoch 32/100\n",
            "30/30 [==============================] - 1s 19ms/step - loss: 0.0041\n",
            "Epoch 33/100\n",
            "30/30 [==============================] - 1s 18ms/step - loss: 0.0038\n",
            "Epoch 34/100\n",
            "30/30 [==============================] - 0s 16ms/step - loss: 0.0039\n",
            "Epoch 35/100\n",
            "30/30 [==============================] - 0s 12ms/step - loss: 0.0042\n",
            "Epoch 36/100\n",
            "30/30 [==============================] - 0s 13ms/step - loss: 0.0037\n",
            "Epoch 37/100\n",
            "30/30 [==============================] - 0s 13ms/step - loss: 0.0033\n",
            "Epoch 38/100\n",
            "30/30 [==============================] - 0s 13ms/step - loss: 0.0033\n",
            "Epoch 39/100\n",
            "30/30 [==============================] - 0s 14ms/step - loss: 0.0035\n",
            "Epoch 40/100\n",
            "30/30 [==============================] - 0s 13ms/step - loss: 0.0035\n",
            "Epoch 41/100\n",
            "30/30 [==============================] - 0s 13ms/step - loss: 0.0031\n",
            "Epoch 42/100\n",
            "30/30 [==============================] - 0s 13ms/step - loss: 0.0031\n",
            "Epoch 43/100\n",
            "30/30 [==============================] - 0s 13ms/step - loss: 0.0032\n",
            "Epoch 44/100\n",
            "30/30 [==============================] - 0s 13ms/step - loss: 0.0036\n",
            "Epoch 45/100\n",
            "30/30 [==============================] - 0s 13ms/step - loss: 0.0034\n",
            "Epoch 46/100\n",
            "30/30 [==============================] - 0s 13ms/step - loss: 0.0032\n",
            "Epoch 47/100\n",
            "30/30 [==============================] - 0s 13ms/step - loss: 0.0032\n",
            "Epoch 48/100\n",
            "30/30 [==============================] - 0s 13ms/step - loss: 0.0033\n",
            "Epoch 49/100\n",
            "30/30 [==============================] - 0s 13ms/step - loss: 0.0029\n",
            "Epoch 50/100\n",
            "30/30 [==============================] - 0s 13ms/step - loss: 0.0026\n",
            "Epoch 51/100\n",
            "30/30 [==============================] - 1s 25ms/step - loss: 0.0026\n",
            "Epoch 52/100\n",
            "30/30 [==============================] - 0s 12ms/step - loss: 0.0025\n",
            "Epoch 53/100\n",
            "30/30 [==============================] - 1s 24ms/step - loss: 0.0027\n",
            "Epoch 54/100\n",
            "30/30 [==============================] - 0s 12ms/step - loss: 0.0026\n",
            "Epoch 55/100\n",
            "30/30 [==============================] - 1s 24ms/step - loss: 0.0023\n",
            "Epoch 56/100\n",
            "30/30 [==============================] - 0s 12ms/step - loss: 0.0025\n",
            "Epoch 57/100\n",
            "30/30 [==============================] - 1s 29ms/step - loss: 0.0027\n",
            "Epoch 58/100\n",
            "30/30 [==============================] - 1s 18ms/step - loss: 0.0025\n",
            "Epoch 59/100\n",
            "30/30 [==============================] - 1s 17ms/step - loss: 0.0024\n",
            "Epoch 60/100\n",
            "30/30 [==============================] - 1s 17ms/step - loss: 0.0024\n",
            "Epoch 61/100\n",
            "30/30 [==============================] - 0s 12ms/step - loss: 0.0024\n",
            "Epoch 62/100\n",
            "30/30 [==============================] - 0s 13ms/step - loss: 0.0022\n",
            "Epoch 63/100\n",
            "30/30 [==============================] - 0s 12ms/step - loss: 0.0024\n",
            "Epoch 64/100\n",
            "30/30 [==============================] - 0s 12ms/step - loss: 0.0027\n",
            "Epoch 65/100\n",
            "30/30 [==============================] - 0s 12ms/step - loss: 0.0023\n",
            "Epoch 66/100\n",
            "30/30 [==============================] - 0s 12ms/step - loss: 0.0021\n",
            "Epoch 67/100\n",
            "30/30 [==============================] - 0s 12ms/step - loss: 0.0021\n",
            "Epoch 68/100\n",
            "30/30 [==============================] - 0s 13ms/step - loss: 0.0021\n",
            "Epoch 69/100\n",
            "30/30 [==============================] - 0s 12ms/step - loss: 0.0022\n",
            "Epoch 70/100\n",
            "30/30 [==============================] - 0s 13ms/step - loss: 0.0023\n",
            "Epoch 71/100\n",
            "30/30 [==============================] - 0s 13ms/step - loss: 0.0021\n",
            "Epoch 72/100\n",
            "30/30 [==============================] - 0s 12ms/step - loss: 0.0021\n",
            "Epoch 73/100\n",
            "30/30 [==============================] - 0s 13ms/step - loss: 0.0021\n",
            "Epoch 74/100\n",
            "30/30 [==============================] - 0s 13ms/step - loss: 0.0020\n",
            "Epoch 75/100\n",
            "30/30 [==============================] - 0s 13ms/step - loss: 0.0019\n",
            "Epoch 76/100\n",
            "30/30 [==============================] - 0s 13ms/step - loss: 0.0020\n",
            "Epoch 77/100\n",
            "30/30 [==============================] - 0s 14ms/step - loss: 0.0021\n",
            "Epoch 78/100\n",
            "30/30 [==============================] - 0s 13ms/step - loss: 0.0018\n",
            "Epoch 79/100\n",
            "30/30 [==============================] - 0s 13ms/step - loss: 0.0018\n",
            "Epoch 80/100\n",
            "30/30 [==============================] - 0s 13ms/step - loss: 0.0021\n",
            "Epoch 81/100\n",
            "30/30 [==============================] - 0s 13ms/step - loss: 0.0019\n",
            "Epoch 82/100\n",
            "30/30 [==============================] - 0s 13ms/step - loss: 0.0021\n",
            "Epoch 83/100\n",
            "30/30 [==============================] - 0s 13ms/step - loss: 0.0018\n",
            "Epoch 84/100\n",
            "30/30 [==============================] - 0s 13ms/step - loss: 0.0016\n",
            "Epoch 85/100\n",
            "30/30 [==============================] - 0s 13ms/step - loss: 0.0019\n",
            "Epoch 86/100\n",
            "30/30 [==============================] - 0s 13ms/step - loss: 0.0025\n",
            "Epoch 87/100\n",
            "30/30 [==============================] - 1s 18ms/step - loss: 0.0019\n",
            "Epoch 88/100\n",
            "30/30 [==============================] - 1s 19ms/step - loss: 0.0019\n",
            "Epoch 89/100\n",
            "30/30 [==============================] - 1s 19ms/step - loss: 0.0017\n",
            "Epoch 90/100\n",
            "30/30 [==============================] - 1s 19ms/step - loss: 0.0018\n",
            "Epoch 91/100\n",
            "30/30 [==============================] - 0s 13ms/step - loss: 0.0016\n",
            "Epoch 92/100\n",
            "30/30 [==============================] - 0s 13ms/step - loss: 0.0017\n",
            "Epoch 93/100\n",
            "30/30 [==============================] - 0s 12ms/step - loss: 0.0021\n",
            "Epoch 94/100\n",
            "30/30 [==============================] - 0s 13ms/step - loss: 0.0019\n",
            "Epoch 95/100\n",
            "30/30 [==============================] - 0s 13ms/step - loss: 0.0017\n",
            "Epoch 96/100\n",
            "30/30 [==============================] - 0s 13ms/step - loss: 0.0017\n",
            "Epoch 97/100\n",
            "30/30 [==============================] - 0s 13ms/step - loss: 0.0017\n",
            "Epoch 98/100\n",
            "30/30 [==============================] - 0s 12ms/step - loss: 0.0018\n",
            "Epoch 99/100\n",
            "30/30 [==============================] - 0s 12ms/step - loss: 0.0016\n",
            "Epoch 100/100\n",
            "30/30 [==============================] - 0s 13ms/step - loss: 0.0018\n"
          ]
        },
        {
          "output_type": "execute_result",
          "data": {
            "text/plain": [
              "<keras.callbacks.History at 0x7f20400fe880>"
            ]
          },
          "metadata": {},
          "execution_count": 33
        }
      ]
    }
  ]
}