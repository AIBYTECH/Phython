{
  "nbformat": 4,
  "nbformat_minor": 0,
  "metadata": {
    "colab": {
      "name": "Class_Inheritance.ipynb",
      "provenance": [],
      "include_colab_link": true
    },
    "kernelspec": {
      "name": "python3",
      "display_name": "Python 3"
    },
    "language_info": {
      "name": "python"
    }
  },
  "cells": [
    {
      "cell_type": "markdown",
      "metadata": {
        "id": "view-in-github",
        "colab_type": "text"
      },
      "source": [
        "<a href=\"https://colab.research.google.com/github/AIBYTECH/Phython/blob/main/Class_Inheritance.ipynb\" target=\"_parent\"><img src=\"https://colab.research.google.com/assets/colab-badge.svg\" alt=\"Open In Colab\"/></a>"
      ]
    },
    {
      "cell_type": "code",
      "execution_count": null,
      "metadata": {
        "id": "-y3fF7mGumo6"
      },
      "outputs": [],
      "source": [
        "class Chef:\n",
        "\n",
        "  def make_chicken(self):\n",
        "    print(\"The chef makes chicken\")\n",
        "  def make_salad(self):\n",
        "    print(\"The chef makes salad\")\n",
        "  def make_special(self):\n",
        "    print(\"The chef makes bbq ribs\")    "
      ]
    },
    {
      "cell_type": "code",
      "source": [
        "my_chef = Chef()"
      ],
      "metadata": {
        "id": "sUdMFHW878t5"
      },
      "execution_count": null,
      "outputs": []
    },
    {
      "cell_type": "code",
      "source": [
        "my_chef.make_chicken()"
      ],
      "metadata": {
        "colab": {
          "base_uri": "https://localhost:8080/"
        },
        "id": "Ke3gASIM8gP_",
        "outputId": "97cc1b63-bddd-4112-c0bd-482b22d6f654"
      },
      "execution_count": null,
      "outputs": [
        {
          "output_type": "stream",
          "name": "stdout",
          "text": [
            "The chef makes chicken\n"
          ]
        }
      ]
    },
    {
      "cell_type": "code",
      "source": [
        "my_chef.mro()"
      ],
      "metadata": {
        "colab": {
          "base_uri": "https://localhost:8080/"
        },
        "id": "zR8_AtZD8OVU",
        "outputId": "d72fccc6-9dc0-425e-e470-d8b397eeb381"
      },
      "execution_count": null,
      "outputs": [
        {
          "output_type": "execute_result",
          "data": {
            "text/plain": [
              "[__main__.Chef, object]"
            ]
          },
          "metadata": {},
          "execution_count": 19
        }
      ]
    },
    {
      "cell_type": "code",
      "source": [
        "class Chinesechef(Chef):\n",
        "   def make_fried_rice(self):\n",
        "     print(\"The chinesechef makes fried rice\")\n",
        "   def make_mutton(self):\n",
        "     print(\"The chinesechef makes mutton also\")\n",
        "\n"
      ],
      "metadata": {
        "id": "UCHsaEGfwgwo"
      },
      "execution_count": null,
      "outputs": []
    },
    {
      "cell_type": "code",
      "source": [
        "my_chef_1 = Chinesechef()"
      ],
      "metadata": {
        "id": "vduPahX_zaoZ"
      },
      "execution_count": null,
      "outputs": []
    },
    {
      "cell_type": "code",
      "source": [
        "my_chef.make_salad()"
      ],
      "metadata": {
        "colab": {
          "base_uri": "https://localhost:8080/"
        },
        "id": "trP2Brv20CCi",
        "outputId": "35124673-1a04-4055-d023-0d9f784b5718"
      },
      "execution_count": null,
      "outputs": [
        {
          "output_type": "stream",
          "name": "stdout",
          "text": [
            "The chef makes salad\n"
          ]
        }
      ]
    },
    {
      "cell_type": "code",
      "source": [
        "class Pakistanichef(chinesechef):\n",
        "\n",
        "  def make_briyani(self):\n",
        "    print(\"The Pakistanichef makes briyani\")\n",
        "  def make_korma(self):\n",
        "     print(\"The pakistanichef makes korma\") "
      ],
      "metadata": {
        "id": "JkZcGwzm4oM5"
      },
      "execution_count": null,
      "outputs": []
    },
    {
      "cell_type": "code",
      "source": [
        "my_chef_2= Pakistanichef()"
      ],
      "metadata": {
        "id": "0vg5jqVo6BsS"
      },
      "execution_count": null,
      "outputs": []
    },
    {
      "cell_type": "code",
      "source": [
        "my_chef_1.make_special()"
      ],
      "metadata": {
        "colab": {
          "base_uri": "https://localhost:8080/"
        },
        "id": "PwATjTAY7pUK",
        "outputId": "03655795-cea2-47d8-8be1-75a76638428f"
      },
      "execution_count": null,
      "outputs": [
        {
          "output_type": "stream",
          "name": "stdout",
          "text": [
            "The chef makes bbq ribs\n"
          ]
        }
      ]
    }
  ]
}